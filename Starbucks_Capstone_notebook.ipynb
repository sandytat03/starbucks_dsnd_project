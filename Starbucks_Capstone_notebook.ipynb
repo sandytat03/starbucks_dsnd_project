{
 "cells": [
  {
   "cell_type": "markdown",
   "metadata": {},
   "source": [
    "# Starbucks Capstone Challenge\n",
    "\n",
    "### Introduction\n",
    "\n",
    "This data set contains simulated data that mimics customer behavior on the Starbucks rewards mobile app. Once every few days, Starbucks sends out an offer to users of the mobile app. An offer can be merely an advertisement for a drink or an actual offer such as a discount or BOGO (buy one get one free). Some users might not receive any offer during certain weeks. \n",
    "\n",
    "Not all users receive the same offer, and that is the challenge to solve with this data set.\n",
    "\n",
    "Your task is to combine transaction, demographic and offer data to determine which demographic groups respond best to which offer type. This data set is a simplified version of the real Starbucks app because the underlying simulator only has one product whereas Starbucks actually sells dozens of products.\n",
    "\n",
    "Every offer has a validity period before the offer expires. As an example, a BOGO offer might be valid for only 5 days. You'll see in the data set that informational offers have a validity period even though these ads are merely providing information about a product; for example, if an informational offer has 7 days of validity, you can assume the customer is feeling the influence of the offer for 7 days after receiving the advertisement.\n",
    "\n",
    "You'll be given transactional data showing user purchases made on the app including the timestamp of purchase and the amount of money spent on a purchase. This transactional data also has a record for each offer that a user receives as well as a record for when a user actually views the offer. There are also records for when a user completes an offer. \n",
    "\n",
    "Keep in mind as well that someone using the app might make a purchase through the app without having received an offer or seen an offer.\n",
    "\n",
    "### Example\n",
    "\n",
    "To give an example, a user could receive a discount offer buy 10 dollars get 2 off on Monday. The offer is valid for 10 days from receipt. If the customer accumulates at least 10 dollars in purchases during the validity period, the customer completes the offer.\n",
    "\n",
    "However, there are a few things to watch out for in this data set. Customers do not opt into the offers that they receive; in other words, a user can receive an offer, never actually view the offer, and still complete the offer. For example, a user might receive the \"buy 10 dollars get 2 dollars off offer\", but the user never opens the offer during the 10 day validity period. The customer spends 15 dollars during those ten days. There will be an offer completion record in the data set; however, the customer was not influenced by the offer because the customer never viewed the offer.\n",
    "\n",
    "### Cleaning\n",
    "\n",
    "This makes data cleaning especially important and tricky.\n",
    "\n",
    "You'll also want to take into account that some demographic groups will make purchases even if they don't receive an offer. From a business perspective, if a customer is going to make a 10 dollar purchase without an offer anyway, you wouldn't want to send a buy 10 dollars get 2 dollars off offer. You'll want to try to assess what a certain demographic group will buy when not receiving any offers.\n",
    "\n",
    "### Final Advice\n",
    "\n",
    "Because this is a capstone project, you are free to analyze the data any way you see fit. For example, you could build a machine learning model that predicts how much someone will spend based on demographics and offer type. Or you could build a model that predicts whether or not someone will respond to an offer. Or, you don't need to build a machine learning model at all. You could develop a set of heuristics that determine what offer you should send to each customer (i.e., 75 percent of women customers who were 35 years old responded to offer A vs 40 percent from the same demographic to offer B, so send offer A)."
   ]
  },
  {
   "cell_type": "markdown",
   "metadata": {},
   "source": [
    "# Data Sets\n",
    "\n",
    "The data is contained in three files:\n",
    "\n",
    "* portfolio.json - containing offer ids and meta data about each offer (duration, type, etc.)\n",
    "* profile.json - demographic data for each customer\n",
    "* transcript.json - records for transactions, offers received, offers viewed, and offers completed\n",
    "\n",
    "Here is the schema and explanation of each variable in the files:\n",
    "\n",
    "**portfolio.json**\n",
    "* id (string) - offer id\n",
    "* offer_type (string) - type of offer ie BOGO, discount, informational\n",
    "* difficulty (int) - minimum required spend to complete an offer\n",
    "* reward (int) - reward given for completing an offer\n",
    "* duration (int) - time for offer to be open, in days\n",
    "* channels (list of strings)\n",
    "\n",
    "**profile.json**\n",
    "* age (int) - age of the customer \n",
    "* became_member_on (int) - date when customer created an app account\n",
    "* gender (str) - gender of the customer (note some entries contain 'O' for other rather than M or F)\n",
    "* id (str) - customer id\n",
    "* income (float) - customer's income\n",
    "\n",
    "**transcript.json**\n",
    "* event (str) - record description (ie transaction, offer received, offer viewed, etc.)\n",
    "* person (str) - customer id\n",
    "* time (int) - time in hours since start of test. The data begins at time t=0\n",
    "* value - (dict of strings) - either an offer id or transaction amount depending on the record\n",
    "\n",
    "**Note:** If you are using the workspace, you will need to go to the terminal and run the command `conda update pandas` before reading in the files. This is because the version of pandas in the workspace cannot read in the transcript.json file correctly, but the newest version of pandas can. You can access the termnal from the orange icon in the top left of this notebook.  \n",
    "\n",
    "You can see how to access the terminal and how the install works using the two images below.  First you need to access the terminal:\n",
    "\n",
    "<img src=\"pic1.png\"/>\n",
    "\n",
    "Then you will want to run the above command:\n",
    "\n",
    "<img src=\"pic2.png\"/>\n",
    "\n",
    "Finally, when you enter back into the notebook (use the jupyter icon again), you should be able to run the below cell without any errors."
   ]
  },
  {
   "cell_type": "markdown",
   "metadata": {},
   "source": [
    "# ELT"
   ]
  },
  {
   "cell_type": "code",
   "execution_count": 1,
   "metadata": {},
   "outputs": [],
   "source": [
    "import pandas as pd\n",
    "import numpy as np\n",
    "import math\n",
    "import json\n",
    "import matplotlib.pyplot as plt\n",
    "import seaborn as sns\n",
    "%matplotlib inline\n",
    "\n",
    "# read in the json files\n",
    "portfolio = pd.read_json('data/portfolio.json', orient='records', lines=True)\n",
    "profile = pd.read_json('data/profile.json', orient='records', lines=True)\n",
    "transcript = pd.read_json('data/transcript.json', orient='records', lines=True)"
   ]
  },
  {
   "cell_type": "markdown",
   "metadata": {},
   "source": [
    "## Porfolio dataframe\n",
    "- encode offer id string with easier to interpret values (0, 9), set the new offer id column name = offer_id_2"
   ]
  },
  {
   "cell_type": "code",
   "execution_count": 2,
   "metadata": {},
   "outputs": [],
   "source": [
    "# encode offer id with more simple value, set the new column name = offer_id_2\n",
    "portfolio = portfolio.reset_index()\n",
    "portfolio.rename(columns={'index':'offer_id_2'}, inplace=True)"
   ]
  },
  {
   "cell_type": "code",
   "execution_count": 3,
   "metadata": {},
   "outputs": [],
   "source": [
    "# create a dictionary of original offer id string (key) and new offer_id_2 (value), \n",
    "# which can be used to map new offer_id_2 in other dataframes\n",
    "offer_id_2_dict = {list(portfolio['id'])[i]: list(portfolio['offer_id_2'])[i] for i in range(len(list(portfolio['id'])))} "
   ]
  },
  {
   "cell_type": "markdown",
   "metadata": {},
   "source": [
    "## Transcript dataframe\n",
    "- extract info from the 'value' column, by create 4 separate df: offer received, offer viewed,  offer completed, transaction\n",
    "- concat offer events df (exclude transaction df) to one master df: offer_all\n",
    "- find customers who make purchases without offer"
   ]
  },
  {
   "cell_type": "code",
   "execution_count": 4,
   "metadata": {},
   "outputs": [
    {
     "data": {
      "text/plain": [
       "<bound method Series.sort_values of event\n",
       "offer completed     33579\n",
       "offer received      76277\n",
       "offer viewed        57725\n",
       "transaction        138953\n",
       "Name: person, dtype: int64>"
      ]
     },
     "execution_count": 4,
     "metadata": {},
     "output_type": "execute_result"
    }
   ],
   "source": [
    "# summary of offer received, offer viewed, offer completed, transaction \n",
    "transcript.groupby(['event'])['person'].count().sort_values"
   ]
  },
  {
   "cell_type": "markdown",
   "metadata": {},
   "source": [
    "### Offer received df"
   ]
  },
  {
   "cell_type": "code",
   "execution_count": 5,
   "metadata": {},
   "outputs": [],
   "source": [
    "offer_received = transcript[transcript['event'] == 'offer received']\n",
    "offer_received = offer_received.reset_index()\n",
    "\n",
    "offer_id_values = []\n",
    "\n",
    "for i in range(len(offer_received)):\n",
    "    offer_id_value = offer_received.value.values[i].get('offer id')\n",
    "    offer_id_values.append(offer_id_value)\n",
    "\n",
    "offer_received['offer_id_value'] = offer_id_values"
   ]
  },
  {
   "cell_type": "code",
   "execution_count": 6,
   "metadata": {
    "scrolled": true
   },
   "outputs": [
    {
     "data": {
      "text/plain": [
       "count    16994.000000\n",
       "mean         4.488467\n",
       "std          1.073047\n",
       "min          1.000000\n",
       "25%          4.000000\n",
       "50%          5.000000\n",
       "75%          5.000000\n",
       "max          6.000000\n",
       "Name: offer_id_value, dtype: float64"
      ]
     },
     "execution_count": 6,
     "metadata": {},
     "output_type": "execute_result"
    }
   ],
   "source": [
    "# number of offer a person received\n",
    "offer_received.groupby(['person'])['offer_id_value'].count().describe()"
   ]
  },
  {
   "cell_type": "code",
   "execution_count": 7,
   "metadata": {},
   "outputs": [
    {
     "data": {
      "text/plain": [
       "count    16994.000000\n",
       "mean         3.724138\n",
       "std          0.989462\n",
       "min          1.000000\n",
       "25%          3.000000\n",
       "50%          4.000000\n",
       "75%          4.000000\n",
       "max          6.000000\n",
       "Name: offer_id_value, dtype: float64"
      ]
     },
     "execution_count": 7,
     "metadata": {},
     "output_type": "execute_result"
    }
   ],
   "source": [
    "# number of unique offer a person received\n",
    "offer_received.groupby(['person'])['offer_id_value'].nunique().describe()"
   ]
  },
  {
   "cell_type": "code",
   "execution_count": 8,
   "metadata": {},
   "outputs": [],
   "source": [
    "# number of offer received by offer id\n",
    "offer_received_summary = pd.DataFrame(offer_received.groupby(['offer_id_value'])['person'].count())\n",
    "offer_received_summary.rename(columns={'person':'offer_received'}, inplace=True)"
   ]
  },
  {
   "cell_type": "code",
   "execution_count": 9,
   "metadata": {},
   "outputs": [],
   "source": [
    "# create a new column for simplier offer id using offer_id_2_dict dictionary\n",
    "offer_received['offer_id_2'] = offer_received['offer_id_value']\n",
    "offer_received['offer_id_2'].replace(offer_id_2_dict, inplace=True)"
   ]
  },
  {
   "cell_type": "markdown",
   "metadata": {},
   "source": [
    "### Offer viewed df"
   ]
  },
  {
   "cell_type": "code",
   "execution_count": 10,
   "metadata": {},
   "outputs": [],
   "source": [
    "offer_viewed = transcript[transcript['event'] == 'offer viewed']\n",
    "offer_viewed = offer_viewed.reset_index()\n",
    "\n",
    "offer_id_values = []\n",
    "\n",
    "for i in range(len(offer_viewed)):\n",
    "    offer_id_value = offer_viewed.value.values[i].get('offer id')\n",
    "    offer_id_values.append(offer_id_value)\n",
    "\n",
    "offer_viewed['offer_id_value'] = offer_id_values"
   ]
  },
  {
   "cell_type": "code",
   "execution_count": 11,
   "metadata": {},
   "outputs": [],
   "source": [
    "# number of offer viewed by offer id\n",
    "offer_viewed_summary = pd.DataFrame(offer_viewed.groupby(['offer_id_value'])['person'].count())\n",
    "offer_viewed_summary.rename(columns={'person':'offer_viewed'}, inplace=True)"
   ]
  },
  {
   "cell_type": "code",
   "execution_count": 12,
   "metadata": {},
   "outputs": [],
   "source": [
    "# create a new column for simplier offer id using offer_id_2_dict dictionary\n",
    "offer_viewed['offer_id_2'] = offer_viewed['offer_id_value']\n",
    "offer_viewed['offer_id_2'].replace(offer_id_2_dict, inplace=True)"
   ]
  },
  {
   "cell_type": "markdown",
   "metadata": {},
   "source": [
    "### Offer completed df"
   ]
  },
  {
   "cell_type": "code",
   "execution_count": 13,
   "metadata": {},
   "outputs": [],
   "source": [
    "offer_completed = transcript[transcript['event'] == 'offer completed']\n",
    "offer_completed = offer_completed.reset_index()\n",
    "\n",
    "offer_id_values = []\n",
    "offer_rewards = []\n",
    "\n",
    "for i in range(len(offer_completed)):\n",
    "    offer_id_value = offer_completed.value.values[i].get('offer_id')\n",
    "    offer_id_values.append(offer_id_value)\n",
    "    \n",
    "    offer_reward = offer_completed.value.values[i].get('reward')\n",
    "    offer_rewards.append(offer_reward)\n",
    "\n",
    "offer_completed['offer_id_value'] = offer_id_values\n",
    "offer_completed['offer_reward'] = offer_rewards"
   ]
  },
  {
   "cell_type": "code",
   "execution_count": 14,
   "metadata": {},
   "outputs": [],
   "source": [
    "# number of offer completed by offer id\n",
    "offer_completed_summary = pd.DataFrame(offer_completed.groupby(['offer_id_value'])['person'].count())\n",
    "offer_completed_summary.rename(columns={'person':'offer_completed'}, inplace=True)"
   ]
  },
  {
   "cell_type": "code",
   "execution_count": 15,
   "metadata": {},
   "outputs": [],
   "source": [
    "# create a new column for simplier offer id using offer_id_2_dict dictionary\n",
    "offer_completed['offer_id_2'] = offer_completed['offer_id_value']\n",
    "offer_completed['offer_id_2'].replace(offer_id_2_dict, inplace=True)"
   ]
  },
  {
   "cell_type": "markdown",
   "metadata": {},
   "source": [
    "### All offer df"
   ]
  },
  {
   "cell_type": "code",
   "execution_count": 16,
   "metadata": {
    "scrolled": true
   },
   "outputs": [],
   "source": [
    "# combine the 3 new df to 1 df: offer_all\n",
    "frames = [offer_received, offer_viewed, offer_completed]\n",
    "offer_all = pd.concat(frames, sort=False)"
   ]
  },
  {
   "cell_type": "markdown",
   "metadata": {},
   "source": [
    "### Transaction df"
   ]
  },
  {
   "cell_type": "code",
   "execution_count": 17,
   "metadata": {},
   "outputs": [],
   "source": [
    "transaction = transcript[transcript['event'] == 'transaction']\n",
    "transaction = transaction.reset_index()\n",
    "\n",
    "transaction_values = []\n",
    "\n",
    "for i in range(len(transaction)):\n",
    "    transaction_value = transaction.value.values[i].get('amount')\n",
    "    \n",
    "    if type(transaction_value) == float:\n",
    "        transaction_value = round(transaction_value, 2)\n",
    "        \n",
    "    transaction_values.append(transaction_value)\n",
    "\n",
    "transaction['transaction_value'] = transaction_values"
   ]
  },
  {
   "cell_type": "code",
   "execution_count": 18,
   "metadata": {
    "scrolled": true
   },
   "outputs": [
    {
     "data": {
      "text/html": [
       "<div>\n",
       "<style scoped>\n",
       "    .dataframe tbody tr th:only-of-type {\n",
       "        vertical-align: middle;\n",
       "    }\n",
       "\n",
       "    .dataframe tbody tr th {\n",
       "        vertical-align: top;\n",
       "    }\n",
       "\n",
       "    .dataframe thead th {\n",
       "        text-align: right;\n",
       "    }\n",
       "</style>\n",
       "<table border=\"1\" class=\"dataframe\">\n",
       "  <thead>\n",
       "    <tr style=\"text-align: right;\">\n",
       "      <th></th>\n",
       "      <th>index</th>\n",
       "      <th>time</th>\n",
       "      <th>transaction_value</th>\n",
       "    </tr>\n",
       "  </thead>\n",
       "  <tbody>\n",
       "    <tr>\n",
       "      <th>count</th>\n",
       "      <td>138953.000000</td>\n",
       "      <td>138953.000000</td>\n",
       "      <td>138953.000000</td>\n",
       "    </tr>\n",
       "    <tr>\n",
       "      <th>mean</th>\n",
       "      <td>160710.678676</td>\n",
       "      <td>381.584334</td>\n",
       "      <td>12.777356</td>\n",
       "    </tr>\n",
       "    <tr>\n",
       "      <th>std</th>\n",
       "      <td>90463.542633</td>\n",
       "      <td>201.697230</td>\n",
       "      <td>30.250529</td>\n",
       "    </tr>\n",
       "    <tr>\n",
       "      <th>min</th>\n",
       "      <td>12654.000000</td>\n",
       "      <td>0.000000</td>\n",
       "      <td>0.050000</td>\n",
       "    </tr>\n",
       "    <tr>\n",
       "      <th>25%</th>\n",
       "      <td>85177.000000</td>\n",
       "      <td>210.000000</td>\n",
       "      <td>2.780000</td>\n",
       "    </tr>\n",
       "    <tr>\n",
       "      <th>50%</th>\n",
       "      <td>150201.000000</td>\n",
       "      <td>402.000000</td>\n",
       "      <td>8.890000</td>\n",
       "    </tr>\n",
       "    <tr>\n",
       "      <th>75%</th>\n",
       "      <td>239167.000000</td>\n",
       "      <td>552.000000</td>\n",
       "      <td>18.070000</td>\n",
       "    </tr>\n",
       "    <tr>\n",
       "      <th>max</th>\n",
       "      <td>306533.000000</td>\n",
       "      <td>714.000000</td>\n",
       "      <td>1062.280000</td>\n",
       "    </tr>\n",
       "  </tbody>\n",
       "</table>\n",
       "</div>"
      ],
      "text/plain": [
       "               index           time  transaction_value\n",
       "count  138953.000000  138953.000000      138953.000000\n",
       "mean   160710.678676     381.584334          12.777356\n",
       "std     90463.542633     201.697230          30.250529\n",
       "min     12654.000000       0.000000           0.050000\n",
       "25%     85177.000000     210.000000           2.780000\n",
       "50%    150201.000000     402.000000           8.890000\n",
       "75%    239167.000000     552.000000          18.070000\n",
       "max    306533.000000     714.000000        1062.280000"
      ]
     },
     "execution_count": 18,
     "metadata": {},
     "output_type": "execute_result"
    }
   ],
   "source": [
    "transaction.describe()"
   ]
  },
  {
   "cell_type": "markdown",
   "metadata": {},
   "source": [
    "### Summary of offer received, viewed & completed by offer id"
   ]
  },
  {
   "cell_type": "code",
   "execution_count": 19,
   "metadata": {},
   "outputs": [],
   "source": [
    "frames = [offer_received_summary, offer_viewed_summary, offer_completed_summary]\n",
    "offer_summary = pd.concat(frames, axis=1, sort=False)\n",
    "offer_summary = pd.concat([offer_summary, portfolio.set_index('id')], axis=1, sort=False)\n",
    "offer_summary = offer_summary.reset_index()\n",
    "offer_summary.rename(columns={'index':'offer_id'}, inplace=True)"
   ]
  },
  {
   "cell_type": "code",
   "execution_count": 20,
   "metadata": {},
   "outputs": [
    {
     "data": {
      "text/html": [
       "<div>\n",
       "<style scoped>\n",
       "    .dataframe tbody tr th:only-of-type {\n",
       "        vertical-align: middle;\n",
       "    }\n",
       "\n",
       "    .dataframe tbody tr th {\n",
       "        vertical-align: top;\n",
       "    }\n",
       "\n",
       "    .dataframe thead th {\n",
       "        text-align: right;\n",
       "    }\n",
       "</style>\n",
       "<table border=\"1\" class=\"dataframe\">\n",
       "  <thead>\n",
       "    <tr style=\"text-align: right;\">\n",
       "      <th></th>\n",
       "      <th>offer_id</th>\n",
       "      <th>offer_received</th>\n",
       "      <th>offer_viewed</th>\n",
       "      <th>offer_completed</th>\n",
       "      <th>offer_id_2</th>\n",
       "      <th>reward</th>\n",
       "      <th>channels</th>\n",
       "      <th>difficulty</th>\n",
       "      <th>duration</th>\n",
       "      <th>offer_type</th>\n",
       "    </tr>\n",
       "  </thead>\n",
       "  <tbody>\n",
       "    <tr>\n",
       "      <th>0</th>\n",
       "      <td>0b1e1539f2cc45b7b9fa7c272da2e1d7</td>\n",
       "      <td>7668</td>\n",
       "      <td>2663</td>\n",
       "      <td>3420.0</td>\n",
       "      <td>4</td>\n",
       "      <td>5</td>\n",
       "      <td>[web, email]</td>\n",
       "      <td>20</td>\n",
       "      <td>10</td>\n",
       "      <td>discount</td>\n",
       "    </tr>\n",
       "    <tr>\n",
       "      <th>1</th>\n",
       "      <td>2298d6c36e964ae4a3e7e9706d1fb8c2</td>\n",
       "      <td>7646</td>\n",
       "      <td>7337</td>\n",
       "      <td>5156.0</td>\n",
       "      <td>5</td>\n",
       "      <td>3</td>\n",
       "      <td>[web, email, mobile, social]</td>\n",
       "      <td>7</td>\n",
       "      <td>7</td>\n",
       "      <td>discount</td>\n",
       "    </tr>\n",
       "    <tr>\n",
       "      <th>2</th>\n",
       "      <td>2906b810c7d4411798c6938adc9daaa5</td>\n",
       "      <td>7632</td>\n",
       "      <td>4118</td>\n",
       "      <td>4017.0</td>\n",
       "      <td>9</td>\n",
       "      <td>2</td>\n",
       "      <td>[web, email, mobile]</td>\n",
       "      <td>10</td>\n",
       "      <td>7</td>\n",
       "      <td>discount</td>\n",
       "    </tr>\n",
       "    <tr>\n",
       "      <th>3</th>\n",
       "      <td>3f207df678b143eea3cee63160fa8bed</td>\n",
       "      <td>7617</td>\n",
       "      <td>4144</td>\n",
       "      <td>NaN</td>\n",
       "      <td>2</td>\n",
       "      <td>0</td>\n",
       "      <td>[web, email, mobile]</td>\n",
       "      <td>0</td>\n",
       "      <td>4</td>\n",
       "      <td>informational</td>\n",
       "    </tr>\n",
       "    <tr>\n",
       "      <th>4</th>\n",
       "      <td>4d5c57ea9a6940dd891ad53e9dbe8da0</td>\n",
       "      <td>7593</td>\n",
       "      <td>7298</td>\n",
       "      <td>3331.0</td>\n",
       "      <td>1</td>\n",
       "      <td>10</td>\n",
       "      <td>[web, email, mobile, social]</td>\n",
       "      <td>10</td>\n",
       "      <td>5</td>\n",
       "      <td>bogo</td>\n",
       "    </tr>\n",
       "    <tr>\n",
       "      <th>5</th>\n",
       "      <td>5a8bc65990b245e5a138643cd4eb9837</td>\n",
       "      <td>7618</td>\n",
       "      <td>6687</td>\n",
       "      <td>NaN</td>\n",
       "      <td>7</td>\n",
       "      <td>0</td>\n",
       "      <td>[email, mobile, social]</td>\n",
       "      <td>0</td>\n",
       "      <td>3</td>\n",
       "      <td>informational</td>\n",
       "    </tr>\n",
       "    <tr>\n",
       "      <th>6</th>\n",
       "      <td>9b98b8c7a33c4b65b9aebfe6a799e6d9</td>\n",
       "      <td>7677</td>\n",
       "      <td>4171</td>\n",
       "      <td>4354.0</td>\n",
       "      <td>3</td>\n",
       "      <td>5</td>\n",
       "      <td>[web, email, mobile]</td>\n",
       "      <td>5</td>\n",
       "      <td>7</td>\n",
       "      <td>bogo</td>\n",
       "    </tr>\n",
       "    <tr>\n",
       "      <th>7</th>\n",
       "      <td>ae264e3637204a6fb9bb56bc8210ddfd</td>\n",
       "      <td>7658</td>\n",
       "      <td>6716</td>\n",
       "      <td>3688.0</td>\n",
       "      <td>0</td>\n",
       "      <td>10</td>\n",
       "      <td>[email, mobile, social]</td>\n",
       "      <td>10</td>\n",
       "      <td>7</td>\n",
       "      <td>bogo</td>\n",
       "    </tr>\n",
       "    <tr>\n",
       "      <th>8</th>\n",
       "      <td>f19421c1d4aa40978ebb69ca19b0e20d</td>\n",
       "      <td>7571</td>\n",
       "      <td>7264</td>\n",
       "      <td>4296.0</td>\n",
       "      <td>8</td>\n",
       "      <td>5</td>\n",
       "      <td>[web, email, mobile, social]</td>\n",
       "      <td>5</td>\n",
       "      <td>5</td>\n",
       "      <td>bogo</td>\n",
       "    </tr>\n",
       "    <tr>\n",
       "      <th>9</th>\n",
       "      <td>fafdcd668e3743c1bb461111dcafc2a4</td>\n",
       "      <td>7597</td>\n",
       "      <td>7327</td>\n",
       "      <td>5317.0</td>\n",
       "      <td>6</td>\n",
       "      <td>2</td>\n",
       "      <td>[web, email, mobile, social]</td>\n",
       "      <td>10</td>\n",
       "      <td>10</td>\n",
       "      <td>discount</td>\n",
       "    </tr>\n",
       "  </tbody>\n",
       "</table>\n",
       "</div>"
      ],
      "text/plain": [
       "                           offer_id  offer_received  offer_viewed  \\\n",
       "0  0b1e1539f2cc45b7b9fa7c272da2e1d7            7668          2663   \n",
       "1  2298d6c36e964ae4a3e7e9706d1fb8c2            7646          7337   \n",
       "2  2906b810c7d4411798c6938adc9daaa5            7632          4118   \n",
       "3  3f207df678b143eea3cee63160fa8bed            7617          4144   \n",
       "4  4d5c57ea9a6940dd891ad53e9dbe8da0            7593          7298   \n",
       "5  5a8bc65990b245e5a138643cd4eb9837            7618          6687   \n",
       "6  9b98b8c7a33c4b65b9aebfe6a799e6d9            7677          4171   \n",
       "7  ae264e3637204a6fb9bb56bc8210ddfd            7658          6716   \n",
       "8  f19421c1d4aa40978ebb69ca19b0e20d            7571          7264   \n",
       "9  fafdcd668e3743c1bb461111dcafc2a4            7597          7327   \n",
       "\n",
       "   offer_completed  offer_id_2  reward                      channels  \\\n",
       "0           3420.0           4       5                  [web, email]   \n",
       "1           5156.0           5       3  [web, email, mobile, social]   \n",
       "2           4017.0           9       2          [web, email, mobile]   \n",
       "3              NaN           2       0          [web, email, mobile]   \n",
       "4           3331.0           1      10  [web, email, mobile, social]   \n",
       "5              NaN           7       0       [email, mobile, social]   \n",
       "6           4354.0           3       5          [web, email, mobile]   \n",
       "7           3688.0           0      10       [email, mobile, social]   \n",
       "8           4296.0           8       5  [web, email, mobile, social]   \n",
       "9           5317.0           6       2  [web, email, mobile, social]   \n",
       "\n",
       "   difficulty  duration     offer_type  \n",
       "0          20        10       discount  \n",
       "1           7         7       discount  \n",
       "2          10         7       discount  \n",
       "3           0         4  informational  \n",
       "4          10         5           bogo  \n",
       "5           0         3  informational  \n",
       "6           5         7           bogo  \n",
       "7          10         7           bogo  \n",
       "8           5         5           bogo  \n",
       "9          10        10       discount  "
      ]
     },
     "execution_count": 20,
     "metadata": {},
     "output_type": "execute_result"
    }
   ],
   "source": [
    "offer_summary"
   ]
  },
  {
   "cell_type": "markdown",
   "metadata": {},
   "source": [
    "# Profile dataframe\n",
    "- drop rows with null income, age = 118, gender = None: these are likely were generated by errors, and don't add value to the analysis\n",
    "- encode 'gender' with numeric value, by creating dummy variables"
   ]
  },
  {
   "cell_type": "code",
   "execution_count": 21,
   "metadata": {},
   "outputs": [],
   "source": [
    "# drop rows with null income, age = 118, gender = None\n",
    "profile.dropna(axis=0, how='any', inplace=True)"
   ]
  },
  {
   "cell_type": "code",
   "execution_count": 22,
   "metadata": {},
   "outputs": [],
   "source": [
    "# encode 'gender' with numeric value, by creating dummy variables\n",
    "profile = pd.concat([profile, pd.get_dummies(profile['gender'], prefix='gender')], axis=1, sort=False)\n",
    "profile.drop(['gender'], axis=1, inplace=True)"
   ]
  },
  {
   "cell_type": "code",
   "execution_count": 23,
   "metadata": {},
   "outputs": [
    {
     "data": {
      "text/html": [
       "<div>\n",
       "<style scoped>\n",
       "    .dataframe tbody tr th:only-of-type {\n",
       "        vertical-align: middle;\n",
       "    }\n",
       "\n",
       "    .dataframe tbody tr th {\n",
       "        vertical-align: top;\n",
       "    }\n",
       "\n",
       "    .dataframe thead th {\n",
       "        text-align: right;\n",
       "    }\n",
       "</style>\n",
       "<table border=\"1\" class=\"dataframe\">\n",
       "  <thead>\n",
       "    <tr style=\"text-align: right;\">\n",
       "      <th></th>\n",
       "      <th>age</th>\n",
       "      <th>id</th>\n",
       "      <th>became_member_on</th>\n",
       "      <th>income</th>\n",
       "      <th>gender_F</th>\n",
       "      <th>gender_M</th>\n",
       "      <th>gender_O</th>\n",
       "    </tr>\n",
       "  </thead>\n",
       "  <tbody>\n",
       "    <tr>\n",
       "      <th>1</th>\n",
       "      <td>55</td>\n",
       "      <td>0610b486422d4921ae7d2bf64640c50b</td>\n",
       "      <td>20170715</td>\n",
       "      <td>112000.0</td>\n",
       "      <td>1</td>\n",
       "      <td>0</td>\n",
       "      <td>0</td>\n",
       "    </tr>\n",
       "    <tr>\n",
       "      <th>3</th>\n",
       "      <td>75</td>\n",
       "      <td>78afa995795e4d85b5d9ceeca43f5fef</td>\n",
       "      <td>20170509</td>\n",
       "      <td>100000.0</td>\n",
       "      <td>1</td>\n",
       "      <td>0</td>\n",
       "      <td>0</td>\n",
       "    </tr>\n",
       "    <tr>\n",
       "      <th>5</th>\n",
       "      <td>68</td>\n",
       "      <td>e2127556f4f64592b11af22de27a7932</td>\n",
       "      <td>20180426</td>\n",
       "      <td>70000.0</td>\n",
       "      <td>0</td>\n",
       "      <td>1</td>\n",
       "      <td>0</td>\n",
       "    </tr>\n",
       "    <tr>\n",
       "      <th>8</th>\n",
       "      <td>65</td>\n",
       "      <td>389bc3fa690240e798340f5a15918d5c</td>\n",
       "      <td>20180209</td>\n",
       "      <td>53000.0</td>\n",
       "      <td>0</td>\n",
       "      <td>1</td>\n",
       "      <td>0</td>\n",
       "    </tr>\n",
       "    <tr>\n",
       "      <th>12</th>\n",
       "      <td>58</td>\n",
       "      <td>2eeac8d8feae4a8cad5a6af0499a211d</td>\n",
       "      <td>20171111</td>\n",
       "      <td>51000.0</td>\n",
       "      <td>0</td>\n",
       "      <td>1</td>\n",
       "      <td>0</td>\n",
       "    </tr>\n",
       "  </tbody>\n",
       "</table>\n",
       "</div>"
      ],
      "text/plain": [
       "    age                                id  became_member_on    income  \\\n",
       "1    55  0610b486422d4921ae7d2bf64640c50b          20170715  112000.0   \n",
       "3    75  78afa995795e4d85b5d9ceeca43f5fef          20170509  100000.0   \n",
       "5    68  e2127556f4f64592b11af22de27a7932          20180426   70000.0   \n",
       "8    65  389bc3fa690240e798340f5a15918d5c          20180209   53000.0   \n",
       "12   58  2eeac8d8feae4a8cad5a6af0499a211d          20171111   51000.0   \n",
       "\n",
       "    gender_F  gender_M  gender_O  \n",
       "1          1         0         0  \n",
       "3          1         0         0  \n",
       "5          0         1         0  \n",
       "8          0         1         0  \n",
       "12         0         1         0  "
      ]
     },
     "execution_count": 23,
     "metadata": {},
     "output_type": "execute_result"
    }
   ],
   "source": [
    "profile.head()"
   ]
  },
  {
   "cell_type": "code",
   "execution_count": 24,
   "metadata": {},
   "outputs": [
    {
     "name": "stdout",
     "output_type": "stream",
     "text": [
      "<class 'pandas.core.frame.DataFrame'>\n",
      "Int64Index: 14825 entries, 1 to 16999\n",
      "Data columns (total 7 columns):\n",
      "age                 14825 non-null int64\n",
      "id                  14825 non-null object\n",
      "became_member_on    14825 non-null int64\n",
      "income              14825 non-null float64\n",
      "gender_F            14825 non-null uint8\n",
      "gender_M            14825 non-null uint8\n",
      "gender_O            14825 non-null uint8\n",
      "dtypes: float64(1), int64(2), object(1), uint8(3)\n",
      "memory usage: 622.5+ KB\n"
     ]
    }
   ],
   "source": [
    "profile.info()"
   ]
  },
  {
   "cell_type": "markdown",
   "metadata": {},
   "source": [
    "# Customer segmentation\n",
    "- perform k-means clustering on profile_offer_completed data to find groups that tends to respond to similar offers\n",
    "> 1. Use the Elbow method to find the number of clusters (k)\n",
    "> 2. Perform k-means clustering with the k identified\n",
    "> 3. Perform PCA & plot the segments with 2 dimentional space"
   ]
  },
  {
   "cell_type": "code",
   "execution_count": 25,
   "metadata": {},
   "outputs": [],
   "source": [
    "# number of offer completed of each offer type by customer id\n",
    "offer_completed_bycus = offer_completed.groupby(['person','offer_id_2'])['event'].count().unstack().reset_index()\n",
    "\n",
    "offer_completed_bycus.rename(columns={\n",
    "    0:'0_completed',\n",
    "    1:'1_completed',\n",
    "    2:'2_completed',\n",
    "    3:'3_completed',\n",
    "    4:'4_completed',\n",
    "    5:'5_completed',\n",
    "    6:'6_completed',\n",
    "    7:'7_completed',\n",
    "    8:'8_completed',\n",
    "    9:'9_completed',\n",
    "}, inplace=True)\n",
    "\n",
    "offer_completed_bycus.fillna(0, inplace=True)"
   ]
  },
  {
   "cell_type": "code",
   "execution_count": 26,
   "metadata": {},
   "outputs": [],
   "source": [
    "# create df with offer completed by customer id, and customer profile\n",
    "profile_offer_completed = pd.concat([offer_completed_bycus.set_index('person'), profile.set_index('id')], axis=1, sort=False)"
   ]
  },
  {
   "cell_type": "code",
   "execution_count": 27,
   "metadata": {},
   "outputs": [],
   "source": [
    "# select rows where customers responded to offer and we have customer profile data\n",
    "profile_offer_completed = profile_offer_completed[profile_offer_completed['age'].notna()]"
   ]
  },
  {
   "cell_type": "code",
   "execution_count": 28,
   "metadata": {},
   "outputs": [],
   "source": [
    "# fillna with 0 for those customer in profile, didn't respond to any of the offers\n",
    "profile_offer_completed.fillna(0, inplace=True)"
   ]
  },
  {
   "cell_type": "code",
   "execution_count": 29,
   "metadata": {},
   "outputs": [],
   "source": [
    "# standardize value for data\n",
    "cols = profile_offer_completed.columns\n",
    "\n",
    "zcols = []\n",
    "\n",
    "for col in cols:\n",
    "    \n",
    "    profile_offer_completed['z_' + col] = (profile_offer_completed[col] - profile_offer_completed[col].mean())/profile_offer_completed[col].std()\n",
    "    \n",
    "    zcols.append('z_' + col)"
   ]
  },
  {
   "cell_type": "code",
   "execution_count": 30,
   "metadata": {},
   "outputs": [],
   "source": [
    "# determine the number of clusters using the elbow method\n",
    "\n",
    "from sklearn import cluster\n",
    "\n",
    "ss = []\n",
    "\n",
    "krange = list(range(2,30))\n",
    "\n",
    "X = profile_offer_completed[zcols].values\n",
    "\n",
    "for n in krange:\n",
    "    model = cluster.KMeans(n_clusters=n, random_state=10)\n",
    "    \n",
    "    model.fit_predict(X)\n",
    "    \n",
    "    cluster_assignments = model.labels_\n",
    "    \n",
    "    centers = model.cluster_centers_\n",
    "    \n",
    "    ss.append(np.sum((X - centers[cluster_assignments]) ** 2))"
   ]
  },
  {
   "cell_type": "code",
   "execution_count": 31,
   "metadata": {},
   "outputs": [
    {
     "data": {
      "image/png": "[encoded data removed]",
      "text/plain": [
       "<Figure size 432x288 with 1 Axes>"
      ]
     },
     "metadata": {
      "needs_background": "light"
     },
     "output_type": "display_data"
    }
   ],
   "source": [
    "# create a plot with k on the x-axis and the squared error on the y-axis\n",
    "\n",
    "plt.plot(krange, ss)\n",
    "\n",
    "plt.xlabel(\"$K$\")\n",
    "\n",
    "plt.ylabel(\"Sum of Squares\")\n",
    "\n",
    "plt.show()"
   ]
  },
  {
   "cell_type": "code",
   "execution_count": 32,
   "metadata": {},
   "outputs": [
    {
     "data": {
      "text/plain": [
       "Index(['0_completed', '1_completed', '3_completed', '4_completed',\n",
       "       '5_completed', '6_completed', '8_completed', '9_completed', 'age',\n",
       "       'became_member_on', 'income', 'gender_F', 'gender_M', 'gender_O',\n",
       "       'z_0_completed', 'z_1_completed', 'z_3_completed', 'z_4_completed',\n",
       "       'z_5_completed', 'z_6_completed', 'z_8_completed', 'z_9_completed',\n",
       "       'z_age', 'z_became_member_on', 'z_income', 'z_gender_F', 'z_gender_M',\n",
       "       'z_gender_O'],\n",
       "      dtype='object')"
      ]
     },
     "execution_count": 32,
     "metadata": {},
     "output_type": "execute_result"
    }
   ],
   "source": [
    "profile_offer_completed.columns"
   ]
  },
  {
   "cell_type": "code",
   "execution_count": 33,
   "metadata": {},
   "outputs": [
    {
     "data": {
      "image/png": "[encoded data removed]",
      "text/plain": [
       "<Figure size 432x288 with 1 Axes>"
      ]
     },
     "metadata": {
      "needs_background": "light"
     },
     "output_type": "display_data"
    }
   ],
   "source": [
    "# perform k-means with k = 5\n",
    "\n",
    "model = cluster.KMeans(n_clusters=5, random_state=10)\n",
    "cluster = model.fit_predict(profile_offer_completed)\n",
    "offer_cols = ['z_0_completed', 'z_1_completed', 'z_3_completed', 'z_4_completed',\n",
    "       'z_5_completed', 'z_6_completed', 'z_8_completed', 'z_9_completed',\n",
    "       'z_age', 'z_became_member_on', 'z_income', 'z_gender_F', 'z_gender_M',\n",
    "       'z_gender_O']\n",
    "\n",
    "profile_offer_completed['cluster'] = cluster\n",
    "\n",
    "# perform PCA\n",
    "\n",
    "from sklearn import decomposition\n",
    "\n",
    "pca = decomposition.PCA(n_components=2)\n",
    "profile_offer_completed['pc1'], profile_offer_completed['pc2'] = zip(*pca.fit_transform(profile_offer_completed[offer_cols]))\n",
    "\n",
    "colors = ['r', 'b', 'k', 'g', 'y']\n",
    "markers = ['^', 'o', 'd', 's', '.']\n",
    "\n",
    "for c in profile_offer_completed['cluster'].unique():\n",
    "    d = profile_offer_completed[profile_offer_completed['cluster'] == c]\n",
    "    plt.scatter(d['pc1'], d['pc2'], marker=markers[c], color=colors[c])\n",
    "\n",
    "plt.show()"
   ]
  },
  {
   "cell_type": "code",
   "execution_count": 34,
   "metadata": {},
   "outputs": [
    {
     "data": {
      "image/png": "[encoded data removed]",
      "text/plain": [
       "<Figure size 432x288 with 1 Axes>"
      ]
     },
     "metadata": {
      "needs_background": "light"
     },
     "output_type": "display_data"
    }
   ],
   "source": [
    "# perform k-means with k = 2\n",
    "\n",
    "from sklearn import cluster\n",
    "\n",
    "model = cluster.KMeans(n_clusters=2, random_state=10)\n",
    "cluster = model.fit_predict(profile_offer_completed)\n",
    "offer_cols = ['z_0_completed', 'z_1_completed', 'z_3_completed', 'z_4_completed',\n",
    "       'z_5_completed', 'z_6_completed', 'z_8_completed', 'z_9_completed',\n",
    "       'z_age', 'z_became_member_on', 'z_income', 'z_gender_F', 'z_gender_M',\n",
    "       'z_gender_O']\n",
    "\n",
    "profile_offer_completed['cluster'] = cluster\n",
    "\n",
    "# perform PCA\n",
    "\n",
    "from sklearn import decomposition\n",
    "\n",
    "pca = decomposition.PCA(n_components=2)\n",
    "profile_offer_completed['pc1'], profile_offer_completed['pc2'] = zip(*pca.fit_transform(profile_offer_completed[offer_cols]))\n",
    "\n",
    "colors = ['r', 'b']\n",
    "markers = ['^', 'o']\n",
    "\n",
    "for c in profile_offer_completed['cluster'].unique():\n",
    "    d = profile_offer_completed[profile_offer_completed['cluster'] == c]\n",
    "    plt.scatter(d['pc1'], d['pc2'], marker=markers[c], color=colors[c])\n",
    "\n",
    "plt.show()"
   ]
  },
  {
   "cell_type": "code",
   "execution_count": 35,
   "metadata": {},
   "outputs": [
    {
     "data": {
      "image/png": "[encoded data removed]",
      "text/plain": [
       "<Figure size 432x288 with 1 Axes>"
      ]
     },
     "metadata": {
      "needs_background": "light"
     },
     "output_type": "display_data"
    }
   ],
   "source": [
    "# perform k-means with k = 10\n",
    "\n",
    "from sklearn import cluster\n",
    "\n",
    "model = cluster.KMeans(n_clusters=10, random_state=10)\n",
    "cluster = model.fit_predict(profile_offer_completed)\n",
    "offer_cols = ['z_0_completed', 'z_1_completed', 'z_3_completed', 'z_4_completed',\n",
    "       'z_5_completed', 'z_6_completed', 'z_8_completed', 'z_9_completed',\n",
    "       'z_age', 'z_became_member_on', 'z_income', 'z_gender_F', 'z_gender_M',\n",
    "       'z_gender_O']\n",
    "\n",
    "profile_offer_completed['cluster'] = cluster\n",
    "\n",
    "# perform PCA\n",
    "\n",
    "from sklearn import decomposition\n",
    "\n",
    "pca = decomposition.PCA(n_components=2)\n",
    "profile_offer_completed['pc1'], profile_offer_completed['pc2'] = zip(*pca.fit_transform(profile_offer_completed[offer_cols]))\n",
    "\n",
    "colors = ['r', 'b', 'k', 'g', 'y','#eb8034', '#34baeb', '#49eb34', '#eb3499', '#7734eb']\n",
    "markers = ['^', 'o', 'd', 's', '.', '>', '8', 'P', 'H', 'h']\n",
    "\n",
    "for c in profile_offer_completed['cluster'].unique():\n",
    "    d = profile_offer_completed[profile_offer_completed['cluster'] == c]\n",
    "    plt.scatter(d['pc1'], d['pc2'], marker=markers[c], color=colors[c])\n",
    "\n",
    "plt.show()"
   ]
  },
  {
   "cell_type": "code",
   "execution_count": 36,
   "metadata": {},
   "outputs": [
    {
     "data": {
      "text/plain": [
       "Index(['0_completed', '1_completed', '3_completed', '4_completed',\n",
       "       '5_completed', '6_completed', '8_completed', '9_completed', 'age',\n",
       "       'became_member_on', 'income', 'gender_F', 'gender_M', 'gender_O',\n",
       "       'z_0_completed', 'z_1_completed', 'z_3_completed', 'z_4_completed',\n",
       "       'z_5_completed', 'z_6_completed', 'z_8_completed', 'z_9_completed',\n",
       "       'z_age', 'z_became_member_on', 'z_income', 'z_gender_F', 'z_gender_M',\n",
       "       'z_gender_O', 'cluster', 'pc1', 'pc2'],\n",
       "      dtype='object')"
      ]
     },
     "execution_count": 36,
     "metadata": {},
     "output_type": "execute_result"
    }
   ],
   "source": [
    "profile_offer_completed.columns"
   ]
  },
  {
   "cell_type": "code",
   "execution_count": 37,
   "metadata": {},
   "outputs": [],
   "source": [
    "total_proportions = profile_offer_completed[['0_completed', '1_completed', '3_completed', '4_completed',\n",
    "       '5_completed', '6_completed', '8_completed', '9_completed']].mean()"
   ]
  },
  {
   "cell_type": "code",
   "execution_count": 38,
   "metadata": {},
   "outputs": [
    {
     "data": {
      "text/plain": [
       "['z_0_completed',\n",
       " 'z_1_completed',\n",
       " 'z_3_completed',\n",
       " 'z_4_completed',\n",
       " 'z_5_completed',\n",
       " 'z_6_completed',\n",
       " 'z_8_completed',\n",
       " 'z_9_completed',\n",
       " 'z_age',\n",
       " 'z_became_member_on',\n",
       " 'z_income',\n",
       " 'z_gender_F',\n",
       " 'z_gender_M',\n",
       " 'z_gender_O']"
      ]
     },
     "execution_count": 38,
     "metadata": {},
     "output_type": "execute_result"
    }
   ],
   "source": [
    "offer_cols"
   ]
  },
  {
   "cell_type": "code",
   "execution_count": 39,
   "metadata": {},
   "outputs": [
    {
     "data": {
      "text/plain": [
       "z_0_completed        -1.366725e-14\n",
       "z_1_completed        -7.251857e-15\n",
       "z_3_completed        -9.388031e-17\n",
       "z_4_completed        -1.622033e-14\n",
       "z_5_completed         2.923479e-14\n",
       "z_6_completed         7.528113e-15\n",
       "z_8_completed        -1.376847e-14\n",
       "z_9_completed         1.023159e-14\n",
       "z_age                -2.330420e-16\n",
       "z_became_member_on    1.100952e-13\n",
       "z_income             -6.104017e-16\n",
       "z_gender_F            2.567692e-14\n",
       "z_gender_M           -6.058111e-16\n",
       "z_gender_O            1.163761e-15\n",
       "dtype: float64"
      ]
     },
     "execution_count": 39,
     "metadata": {},
     "output_type": "execute_result"
    }
   ],
   "source": [
    "profile_offer_completed[offer_cols].mean()"
   ]
  },
  {
   "cell_type": "code",
   "execution_count": 40,
   "metadata": {},
   "outputs": [
    {
     "data": {
      "text/plain": [
       "10"
      ]
     },
     "execution_count": 40,
     "metadata": {},
     "output_type": "execute_result"
    }
   ],
   "source": [
    "profile_offer_completed['cluster'].nunique()"
   ]
  },
  {
   "cell_type": "code",
   "execution_count": 41,
   "metadata": {},
   "outputs": [
    {
     "data": {
      "image/png": "[encoded data removed]",
      "text/plain": [
       "<Figure size 432x288 with 1 Axes>"
      ]
     },
     "metadata": {
      "needs_background": "light"
     },
     "output_type": "display_data"
    },
    {
     "data": {
      "image/png": "[encoded data removed]",
      "text/plain": [
       "<Figure size 432x288 with 1 Axes>"
      ]
     },
     "metadata": {
      "needs_background": "light"
     },
     "output_type": "display_data"
    },
    {
     "data": {
      "image/png": "[encoded data removed]",
      "text/plain": [
       "<Figure size 432x288 with 1 Axes>"
      ]
     },
     "metadata": {
      "needs_background": "light"
     },
     "output_type": "display_data"
    },
    {
     "data": {
      "image/png": "[encoded data removed]",
      "text/plain": [
       "<Figure size 432x288 with 1 Axes>"
      ]
     },
     "metadata": {
      "needs_background": "light"
     },
     "output_type": "display_data"
    },
    {
     "data": {
      "image/png": "[encoded data removed]",
      "text/plain": [
       "<Figure size 432x288 with 1 Axes>"
      ]
     },
     "metadata": {
      "needs_background": "light"
     },
     "output_type": "display_data"
    },
    {
     "data": {
      "image/png": "[encoded data removed]",
      "text/plain": [
       "<Figure size 432x288 with 1 Axes>"
      ]
     },
     "metadata": {
      "needs_background": "light"
     },
     "output_type": "display_data"
    },
    {
     "data": {
      "image/png": "[encoded data removed]",
      "text/plain": [
       "<Figure size 432x288 with 1 Axes>"
      ]
     },
     "metadata": {
      "needs_background": "light"
     },
     "output_type": "display_data"
    },
    {
     "data": {
      "image/png": "[encoded data removed]",
      "text/plain": [
       "<Figure size 432x288 with 1 Axes>"
      ]
     },
     "metadata": {
      "needs_background": "light"
     },
     "output_type": "display_data"
    },
    {
     "data": {
      "image/png": "[encoded data removed]",
      "text/plain": [
       "<Figure size 432x288 with 1 Axes>"
      ]
     },
     "metadata": {
      "needs_background": "light"
     },
     "output_type": "display_data"
    },
    {
     "data": {
      "image/png": "[encoded data removed]",
      "text/plain": [
       "<Figure size 432x288 with 1 Axes>"
      ]
     },
     "metadata": {
      "needs_background": "light"
     },
     "output_type": "display_data"
    }
   ],
   "source": [
    "total_proportions = profile_offer_completed[offer_cols].mean()\n",
    "\n",
    "for i in range(10):\n",
    "    plt.figure(i)\n",
    "    cluster_df = profile_offer_completed[profile_offer_completed['cluster'] == i]\n",
    "    cluster_proportions = cluster_df[offer_cols].mean()\n",
    "\n",
    "    diff = cluster_proportions - total_proportions\n",
    "    plt.bar(range(1, 15), diff)\n",
    "    plt.xlabel('Offer Number')\n",
    "    plt.ylabel('Difference From Average')\n",
    "plt.show()"
   ]
  },
  {
   "cell_type": "code",
   "execution_count": 46,
   "metadata": {},
   "outputs": [
    {
     "name": "stdout",
     "output_type": "stream",
     "text": [
      "Cluster: 2\n",
      "age: 55.18\n",
      "income: 72179.76\n",
      "Cluster: 3\n",
      "age: 51.34\n",
      "income: 56082.08\n",
      "Cluster: 7\n",
      "age: 61.76\n",
      "income: 90796.40\n",
      "Cluster: 0\n",
      "age: 51.92\n",
      "income: 54906.28\n",
      "Cluster: 4\n",
      "age: 56.96\n",
      "income: 72136.68\n",
      "Cluster: 6\n",
      "age: 47.98\n",
      "income: 38487.75\n",
      "Cluster: 1\n",
      "age: 65.03\n",
      "income: 110472.84\n",
      "Cluster: 5\n",
      "age: 52.60\n",
      "income: 60520.00\n",
      "Cluster: 8\n",
      "age: 61.59\n",
      "income: 90867.10\n",
      "Cluster: 9\n",
      "age: 48.10\n",
      "income: 37667.68\n"
     ]
    }
   ],
   "source": [
    "for cluster in profile_offer_completed['cluster'].unique():\n",
    "    \n",
    "    print(\"Cluster: \" + str(cluster))\n",
    "    \n",
    "    for col in ['age', 'income']:\n",
    "        print(col + \": {:.2f}\".format(profile_offer_completed.loc[profile_offer_completed['cluster'] == cluster, col].mean()))"
   ]
  }
 ],
 "metadata": {
  "kernelspec": {
   "display_name": "Python 3",
   "language": "python",
   "name": "python3"
  },
  "language_info": {
   "codemirror_mode": {
    "name": "ipython",
    "version": 3
   },
   "file_extension": ".py",
   "mimetype": "text/x-python",
   "name": "python",
   "nbconvert_exporter": "python",
   "pygments_lexer": "ipython3",
   "version": "3.7.6"
  }
 },
 "nbformat": 4,
 "nbformat_minor": 2
}
